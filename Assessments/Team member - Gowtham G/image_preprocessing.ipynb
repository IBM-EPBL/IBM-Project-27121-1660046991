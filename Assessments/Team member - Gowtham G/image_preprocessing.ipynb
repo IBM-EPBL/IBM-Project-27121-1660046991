##### image prepocessing ####


##  Import The ImageDataGenerator Library

from keras.preprocessing.image import ImageDataGenerator

## Configure ImageDataGenerator Class
 
train_datagen = ImageDataGenerator(rescale=1./255,shear_range=2.0,zoom_range=2.0,horizontal_flip=True)
test_datagen = ImageDataGenerator(rescale=1./255)

##  Configure ImageDataGenerator Class

x_train = train_datagen.flow_from_directory(r'C:\Users\gowtham\Downloads\IBM\Dataset\TRAIN_SET',target_size=(64,64),batch_size=5,color_mode='rgb',class_mode='sparse')
x_test = train_datagen.flow_from_directory(r'C:\Users\gowtham\Downloads\IBM\Dataset\TEST_SET',target_size=(64,64),batch_size=5,color_mode='rgb',class_mode='sparse')

## checking the number of classes

print(x_train.class_indices)

print(x_test.class_indices)

from collections import Counter as c
c(x_train.labels)
